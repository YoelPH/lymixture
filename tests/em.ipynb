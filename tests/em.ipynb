{
 "cells": [
  {
   "cell_type": "code",
   "execution_count": null,
   "metadata": {},
   "outputs": [],
   "source": [
    "import numpy as np\n",
    "import pandas as pd\n",
    "rng = np.random.default_rng(12345)\n",
    "\n",
    "from lymph.models import Unilateral\n",
    "from lymixture import LymphMixture\n",
    "from lymixture.utils import binom_pmf, late_binomial, normalize\n",
    "from fixtures import (\n",
    "    get_graph,\n",
    "    get_patient_data,\n",
    "    MODALITIES,\n",
    ")\n",
    "PARAMS_C1 = {\n",
    "    \"TtoII_spread\": 0.5,\n",
    "    \"TtoIII_spread\": 0.25,\n",
    "    \"TtoIV_spread\": 0.1,\n",
    "    \"IItoIII_spread\": 0.4,\n",
    "    \"IIItoIV_spread\": 0.3,\n",
    "    \"late_p\": 0.5,\n",
    "}\n",
    "PARAMS_C2 = {\n",
    "    \"TtoII_spread\": 0.65,\n",
    "    \"TtoIII_spread\": 0.15,\n",
    "    \"TtoIV_spread\": 0.05,\n",
    "    \"IItoIII_spread\": 0.5,\n",
    "    \"IIItoIV_spread\": 0.4,\n",
    "    \"late_p\": 0.5,\n",
    "}"
   ]
  },
  {
   "cell_type": "code",
   "execution_count": null,
   "metadata": {},
   "outputs": [],
   "source": [
    "graph = {\n",
    "    (\"tumor\", \"T\"): [\"II\", \"III\"],\n",
    "    (\"lnl\", \"II\"): [\"III\"],\n",
    "    (\"lnl\", \"III\"): [],\n",
    "}\n",
    "patient_data = get_patient_data()\n",
    "num_components = 2\n",
    "\n",
    "mixture = LymphMixture(\n",
    "    model_cls=Unilateral,\n",
    "    model_kwargs={\"graph_dict\": graph},\n",
    "    num_components=num_components,\n",
    ")\n",
    "data = pd.read_csv(\"data/mixture.csv\", header=[0,1,2])\n",
    "mixture.load_patient_data(data, split_by=(\"tumor\", \"1\", \"subsite\"), mapping=lambda x: x)\n",
    "\n",
    "mixture.set_modality(\"path\", 1., 1.)"
   ]
  },
  {
   "cell_type": "code",
   "execution_count": null,
   "metadata": {},
   "outputs": [],
   "source": [
    "mixture.set_distribution(\"early\", binom_pmf(np.arange(11), 10, 0.3))\n",
    "mixture.set_distribution(\"late\", late_binomial)\n",
    "mixture.get_all_distributions()"
   ]
  },
  {
   "cell_type": "code",
   "execution_count": null,
   "metadata": {},
   "outputs": [],
   "source": [
    "from lymixture.em import expectation, maximization\n",
    "\n",
    "params = {k: rng.uniform() for k in mixture.get_params()}\n",
    "mixture.set_params(**params)\n",
    "mixture.normalize_mixture_coefs()\n",
    "\n",
    "latent = normalize(np.ones_like(mixture.get_resps()).T, axis=0).T"
   ]
  },
  {
   "cell_type": "code",
   "execution_count": null,
   "metadata": {},
   "outputs": [],
   "source": [
    "mixture.get_mixture_coefs()"
   ]
  },
  {
   "cell_type": "code",
   "execution_count": null,
   "metadata": {},
   "outputs": [],
   "source": [
    "params = maximization(mixture, latent)"
   ]
  },
  {
   "cell_type": "code",
   "execution_count": null,
   "metadata": {},
   "outputs": [],
   "source": [
    "latent = expectation(mixture, params)"
   ]
  },
  {
   "cell_type": "code",
   "execution_count": null,
   "metadata": {},
   "outputs": [],
   "source": [
    "def to_numpy(params: dict[str, float]) -> np.ndarray:\n",
    "    return np.array([p for p in params.values()])"
   ]
  },
  {
   "cell_type": "code",
   "execution_count": null,
   "metadata": {},
   "outputs": [],
   "source": [
    "converged = False\n",
    "count = 0\n",
    "\n",
    "while not converged:\n",
    "    old_params = params\n",
    "    params = maximization(mixture, latent)\n",
    "    latent = expectation(mixture, params)\n",
    "    converged = np.allclose(to_numpy(params), to_numpy(old_params))\n",
    "    count += 1\n",
    "\n",
    "mixture.get_params()"
   ]
  },
  {
   "cell_type": "code",
   "execution_count": null,
   "metadata": {},
   "outputs": [],
   "source": [
    "count"
   ]
  }
 ],
 "metadata": {
  "kernelspec": {
   "display_name": ".venv",
   "language": "python",
   "name": "python3"
  },
  "language_info": {
   "codemirror_mode": {
    "name": "ipython",
    "version": 3
   },
   "file_extension": ".py",
   "mimetype": "text/x-python",
   "name": "python",
   "nbconvert_exporter": "python",
   "pygments_lexer": "ipython3",
   "version": "3.10.12"
  }
 },
 "nbformat": 4,
 "nbformat_minor": 2
}
