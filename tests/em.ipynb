{
 "cells": [
  {
   "cell_type": "code",
   "execution_count": 1,
   "metadata": {},
   "outputs": [],
   "source": [
    "import numpy as np\n",
    "import pandas as pd\n",
    "rng = np.random.default_rng(12345)\n",
    "\n",
    "from lymph.models import Unilateral\n",
    "from lymixture import LymphMixture\n",
    "from lymixture.utils import binom_pmf, late_binomial, normalize\n",
    "from fixtures import get_patient_data\n",
    "PARAMS_C1 = {\n",
    "    \"TtoII_spread\": 0.5,\n",
    "    \"TtoIII_spread\": 0.25,\n",
    "    \"TtoIV_spread\": 0.1,\n",
    "    \"IItoIII_spread\": 0.4,\n",
    "    \"IIItoIV_spread\": 0.3,\n",
    "    \"late_p\": 0.5,\n",
    "}\n",
    "PARAMS_C2 = {\n",
    "    \"TtoII_spread\": 0.65,\n",
    "    \"TtoIII_spread\": 0.15,\n",
    "    \"TtoIV_spread\": 0.05,\n",
    "    \"IItoIII_spread\": 0.5,\n",
    "    \"IIItoIV_spread\": 0.4,\n",
    "    \"late_p\": 0.5,\n",
    "}"
   ]
  },
  {
   "cell_type": "code",
   "execution_count": 2,
   "metadata": {},
   "outputs": [
    {
     "data": {
      "text/html": [
       "<div>\n",
       "<style scoped>\n",
       "    .dataframe tbody tr th:only-of-type {\n",
       "        vertical-align: middle;\n",
       "    }\n",
       "\n",
       "    .dataframe tbody tr th {\n",
       "        vertical-align: top;\n",
       "    }\n",
       "\n",
       "    .dataframe thead tr th {\n",
       "        text-align: left;\n",
       "    }\n",
       "</style>\n",
       "<table border=\"1\" class=\"dataframe\">\n",
       "  <thead>\n",
       "    <tr>\n",
       "      <th></th>\n",
       "      <th colspan=\"2\" halign=\"left\">path</th>\n",
       "      <th colspan=\"2\" halign=\"left\">tumor</th>\n",
       "    </tr>\n",
       "    <tr>\n",
       "      <th></th>\n",
       "      <th colspan=\"2\" halign=\"left\">ipsi</th>\n",
       "      <th colspan=\"2\" halign=\"left\">1</th>\n",
       "    </tr>\n",
       "    <tr>\n",
       "      <th></th>\n",
       "      <th>II</th>\n",
       "      <th>III</th>\n",
       "      <th>t_stage</th>\n",
       "      <th>subsite</th>\n",
       "    </tr>\n",
       "  </thead>\n",
       "  <tbody>\n",
       "    <tr>\n",
       "      <th>0</th>\n",
       "      <td>False</td>\n",
       "      <td>True</td>\n",
       "      <td>late</td>\n",
       "      <td>c1</td>\n",
       "    </tr>\n",
       "    <tr>\n",
       "      <th>1</th>\n",
       "      <td>False</td>\n",
       "      <td>True</td>\n",
       "      <td>early</td>\n",
       "      <td>c1</td>\n",
       "    </tr>\n",
       "    <tr>\n",
       "      <th>2</th>\n",
       "      <td>False</td>\n",
       "      <td>True</td>\n",
       "      <td>early</td>\n",
       "      <td>c1</td>\n",
       "    </tr>\n",
       "    <tr>\n",
       "      <th>3</th>\n",
       "      <td>False</td>\n",
       "      <td>False</td>\n",
       "      <td>early</td>\n",
       "      <td>c1</td>\n",
       "    </tr>\n",
       "    <tr>\n",
       "      <th>4</th>\n",
       "      <td>False</td>\n",
       "      <td>True</td>\n",
       "      <td>early</td>\n",
       "      <td>c1</td>\n",
       "    </tr>\n",
       "    <tr>\n",
       "      <th>...</th>\n",
       "      <td>...</td>\n",
       "      <td>...</td>\n",
       "      <td>...</td>\n",
       "      <td>...</td>\n",
       "    </tr>\n",
       "    <tr>\n",
       "      <th>2995</th>\n",
       "      <td>True</td>\n",
       "      <td>True</td>\n",
       "      <td>early</td>\n",
       "      <td>c3</td>\n",
       "    </tr>\n",
       "    <tr>\n",
       "      <th>2996</th>\n",
       "      <td>True</td>\n",
       "      <td>True</td>\n",
       "      <td>late</td>\n",
       "      <td>c3</td>\n",
       "    </tr>\n",
       "    <tr>\n",
       "      <th>2997</th>\n",
       "      <td>False</td>\n",
       "      <td>False</td>\n",
       "      <td>early</td>\n",
       "      <td>c3</td>\n",
       "    </tr>\n",
       "    <tr>\n",
       "      <th>2998</th>\n",
       "      <td>True</td>\n",
       "      <td>False</td>\n",
       "      <td>early</td>\n",
       "      <td>c3</td>\n",
       "    </tr>\n",
       "    <tr>\n",
       "      <th>2999</th>\n",
       "      <td>True</td>\n",
       "      <td>False</td>\n",
       "      <td>early</td>\n",
       "      <td>c3</td>\n",
       "    </tr>\n",
       "  </tbody>\n",
       "</table>\n",
       "<p>3000 rows × 4 columns</p>\n",
       "</div>"
      ],
      "text/plain": [
       "       path          tumor        \n",
       "       ipsi              1        \n",
       "         II    III t_stage subsite\n",
       "0     False   True    late      c1\n",
       "1     False   True   early      c1\n",
       "2     False   True   early      c1\n",
       "3     False  False   early      c1\n",
       "4     False   True   early      c1\n",
       "...     ...    ...     ...     ...\n",
       "2995   True   True   early      c3\n",
       "2996   True   True    late      c3\n",
       "2997  False  False   early      c3\n",
       "2998   True  False   early      c3\n",
       "2999   True  False   early      c3\n",
       "\n",
       "[3000 rows x 4 columns]"
      ]
     },
     "execution_count": 2,
     "metadata": {},
     "output_type": "execute_result"
    }
   ],
   "source": [
    "data = pd.read_csv(\"data/mixture.csv\", header=[0,1,2])\n",
    "# new_column = pd.MultiIndex.from_tuples([('diagnose', 'ipsi', ['II', 'III'])])\n",
    "\n",
    "# Initialize the new column with None values\n",
    "# data['diagnose', 'ipsi', 'II'] = None\n",
    "# data['diagnose', 'ipsi', 'III'] = None\n",
    "\n",
    "data\n"
   ]
  },
  {
   "cell_type": "code",
   "execution_count": 3,
   "metadata": {},
   "outputs": [],
   "source": [
    "graph = {\n",
    "    (\"tumor\", \"T\"): [\"II\", \"III\"],\n",
    "    (\"lnl\", \"II\"): [\"III\"],\n",
    "    (\"lnl\", \"III\"): [],\n",
    "}\n",
    "num_components = 2\n",
    "\n",
    "mixture = LymphMixture(\n",
    "    model_cls=Unilateral,\n",
    "    model_kwargs={\"graph_dict\": graph},\n",
    "    num_components=num_components,\n",
    "    universal_p= False\n",
    ")\n",
    "mixture.load_patient_data(\n",
    "    data,\n",
    "    split_by=(\"tumor\", \"1\", \"subsite\"),\n",
    "    mapping=lambda x: x,\n",
    ")"
   ]
  },
  {
   "cell_type": "markdown",
   "metadata": {},
   "source": [
    "Set the diagnostic modality to be the same as in the generated dataset."
   ]
  },
  {
   "cell_type": "code",
   "execution_count": 4,
   "metadata": {},
   "outputs": [
    {
     "data": {
      "text/plain": [
       "{'path': Clinical(spec=1.0, sens=1.0, is_trinary=False)}"
      ]
     },
     "execution_count": 4,
     "metadata": {},
     "output_type": "execute_result"
    }
   ],
   "source": [
    "mixture.set_modality(\"path\", 1., 1.)\n",
    "# mixture.set_modality(\"diagnose\", 1., 0.81 )\n",
    "mixture.get_all_modalities()"
   ]
  },
  {
   "cell_type": "markdown",
   "metadata": {},
   "source": [
    "Fix the distribution over diagnosis times for early T-stage (T1 & T2) to be a binomial distribution with a parameters $p=0.3$.\n",
    "\n",
    "The late T-stage's diagnosis time distribution is a binomial one with a free model parameter than needs to be learned as well."
   ]
  },
  {
   "cell_type": "code",
   "execution_count": 5,
   "metadata": {},
   "outputs": [
    {
     "data": {
      "text/plain": [
       "{'early': Distribution([0.0282475249, 0.121060821, 0.23347444050000002, 0.266827932, 0.20012094900000002, 0.1029193452, 0.03675690900000001, 0.009001692, 0.0014467005000000002, 0.00013778100000000004, 5.904900000000001e-06]),\n",
       " 'late': Distribution([0.0009765625, 0.009765625, 0.0439453125, 0.1171875, 0.205078125, 0.24609375, 0.205078125, 0.1171875, 0.0439453125, 0.009765625, 0.0009765625])}"
      ]
     },
     "execution_count": 5,
     "metadata": {},
     "output_type": "execute_result"
    }
   ],
   "source": [
    "mixture.set_distribution(\"early\", binom_pmf(np.arange(11), 10, 0.3))\n",
    "mixture.set_distribution(\"late\", late_binomial)\n",
    "mixture.get_all_distributions()"
   ]
  },
  {
   "cell_type": "markdown",
   "metadata": {},
   "source": [
    "Initialize random model parameters and latent variables/responsibilities."
   ]
  },
  {
   "cell_type": "code",
   "execution_count": 6,
   "metadata": {},
   "outputs": [],
   "source": [
    "from lymixture.em import expectation, maximization, maximization_component_wise\n",
    "\n",
    "params = {k: rng.uniform() for k in mixture.get_params()}\n",
    "mixture.set_params(**params)\n",
    "mixture.normalize_mixture_coefs()\n",
    "latent = normalize(rng.uniform(size=mixture.get_resps().shape).T, axis=0).T"
   ]
  },
  {
   "cell_type": "code",
   "execution_count": 7,
   "metadata": {},
   "outputs": [],
   "source": [
    "def to_numpy(params: dict[str, float]) -> np.ndarray:\n",
    "    return np.array([p for p in params.values()])"
   ]
  },
  {
   "cell_type": "code",
   "execution_count": 13,
   "metadata": {},
   "outputs": [],
   "source": [
    "def check_convergence(params_history, likelihood_history, steps_back_list):\n",
    "    current_params = params_history[-1]\n",
    "    current_likelihood = likelihood_history[-1]\n",
    "    for steps_back in steps_back_list:\n",
    "        previous_params = params_history[-steps_back - 1]\n",
    "        if np.allclose(to_numpy(current_params), to_numpy(previous_params)):\n",
    "            print('stopped due to parameter similarity')\n",
    "            return True  # Return True if any of the steps is close\n",
    "        elif (np.isclose(current_likelihood, likelihood_history[-steps_back - 1],rtol = 0, atol = 0.01)) and np.all(current_likelihood >= np.array(likelihood_history)):\n",
    "            print('stopped due to likelihood similarity')\n",
    "            return True\n",
    "    return False"
   ]
  },
  {
   "cell_type": "markdown",
   "metadata": {},
   "source": [
    "Iterate the computation of the expectation value of the latent variables (E-step) and the maximization of the (complete) data log-likelihood w.r.t. the model parameters (M-step)."
   ]
  },
  {
   "cell_type": "code",
   "execution_count": 10,
   "metadata": {},
   "outputs": [
    {
     "name": "stdout",
     "output_type": "stream",
     "text": [
      "0\n",
      "-5813.194372245713\n",
      "1\n",
      "-4084.220667757898\n",
      "2\n",
      "-4050.880519942173\n",
      "3\n",
      "-4021.507938763605\n",
      "4\n",
      "-3984.5774800092263\n",
      "5\n",
      "-3939.993293088375\n",
      "6\n",
      "-3894.9257237766406\n",
      "7\n",
      "-3857.3210093687558\n",
      "8\n",
      "-3829.899459408352\n",
      "9\n",
      "-3811.459326568134\n",
      "10\n",
      "-3799.8175591598165\n",
      "11\n",
      "-3792.860590895957\n",
      "12\n",
      "-3788.729645262283\n",
      "13\n",
      "-3786.79249002104\n",
      "14\n",
      "-3785.7250309161027\n",
      "15\n",
      "-3785.1415100261192\n",
      "16\n",
      "-3784.822618143944\n",
      "17\n",
      "-3784.6485580441563\n",
      "18\n",
      "-3784.552739521725\n",
      "19\n",
      "-3784.498385854542\n",
      "20\n",
      "-3784.4667313970867\n",
      "21\n",
      "-3784.4468904822897\n",
      "22\n",
      "-3784.433764288513\n",
      "stopped due to likelihood similarity\n"
     ]
    }
   ],
   "source": [
    "is_converged = False\n",
    "count = 0\n",
    "params_history = []\n",
    "likelihood_history = []\n",
    "params_history.append(params.copy())\n",
    "likelihood_history.append(mixture.likelihood(use_complete = False))\n",
    "# Number of steps to look back for convergence\n",
    "look_back_steps = 3\n",
    "\n",
    "while not is_converged:\n",
    "    print(count)\n",
    "    print(likelihood_history[-1])\n",
    "    old_params = params\n",
    "    latent = expectation(mixture, params)\n",
    "    params = maximization(mixture, latent)\n",
    "\n",
    "    # Append current params and likelihood to history\n",
    "    params_history.append(params.copy())\n",
    "    likelihood_history.append(mixture.likelihood(use_complete=False))\n",
    "    \n",
    "    # Check if converged\n",
    "    if count >= 3:  # Ensure enough history is available\n",
    "        is_converged = check_convergence(params_history, likelihood_history,list(range(1,look_back_steps+1)))\n",
    "    count += 1"
   ]
  },
  {
   "cell_type": "code",
   "execution_count": 14,
   "metadata": {},
   "outputs": [
    {
     "data": {
      "text/plain": [
       "{'0_TtoII_spread': 0.2541706932445177,\n",
       " '0_TtoIII_spread': 0.08153734768917623,\n",
       " '0_IItoIII_spread': 0.044918400622614645,\n",
       " '0_late_p': 0.42363422817323076,\n",
       " '0_c1_coef': 0.0005849904436662762,\n",
       " '0_c2_coef': 0.9999995334201446,\n",
       " '0_c3_coef': 0.45360786467209496,\n",
       " '1_TtoII_spread': 0.07361096211878104,\n",
       " '1_TtoIII_spread': 0.2518831807057421,\n",
       " '1_IItoIII_spread': 6.610696135189607e-05,\n",
       " '1_late_p': 0.47329409796776206,\n",
       " '1_c1_coef': 0.9994150095563338,\n",
       " '1_c2_coef': 4.665798554192631e-07,\n",
       " '1_c3_coef': 0.546392135327905}"
      ]
     },
     "execution_count": 14,
     "metadata": {},
     "output_type": "execute_result"
    }
   ],
   "source": [
    "params"
   ]
  },
  {
   "cell_type": "markdown",
   "metadata": {},
   "source": [
    "Faster version with component-wise-maximization"
   ]
  },
  {
   "cell_type": "code",
   "execution_count": 14,
   "metadata": {},
   "outputs": [
    {
     "name": "stdout",
     "output_type": "stream",
     "text": [
      "0\n",
      "-3783.9044529312505\n",
      "1\n",
      "-3783.9044529312505\n",
      "2\n",
      "-3783.9023468430787\n",
      "3\n",
      "-3783.900254092534\n",
      "stopped due to likelihood similarity\n"
     ]
    }
   ],
   "source": [
    "is_converged = False\n",
    "count = 0\n",
    "params_history = []\n",
    "likelihood_history = []\n",
    "params_history.append(params.copy())\n",
    "likelihood_history.append(mixture.likelihood(use_complete = False))\n",
    "# Number of steps to look back for convergence\n",
    "look_back_steps = 3\n",
    "\n",
    "while not is_converged:\n",
    "    print(count)\n",
    "    print(likelihood_history[-1])\n",
    "\n",
    "    old_params = params\n",
    "    latent = expectation(mixture, params)\n",
    "    params = maximization_component_wise(mixture, latent)\n",
    "\n",
    "    # Append current params and likelihood to history\n",
    "    params_history.append(params.copy())\n",
    "    likelihood_history.append(mixture.likelihood(use_complete=False))\n",
    "    \n",
    "    # Check if converged\n",
    "    if count >= 3:  # Ensure enough history is available\n",
    "        is_converged = check_convergence(params_history, likelihood_history,list(range(1,look_back_steps+1)))\n",
    "    count += 1"
   ]
  },
  {
   "cell_type": "code",
   "execution_count": 15,
   "metadata": {},
   "outputs": [
    {
     "data": {
      "text/plain": [
       "{'0_TtoII_spread': 0.25867734764522227,\n",
       " '0_TtoIII_spread': 0.07462686584696727,\n",
       " '0_IItoIII_spread': 0.05806141219185204,\n",
       " '0_late_p': 0.42474186931682645,\n",
       " '0_c1_coef': 0.06288631180588661,\n",
       " '0_c2_coef': 0.9803864662413907,\n",
       " '0_c3_coef': 0.4783617554889759,\n",
       " '1_TtoII_spread': 0.06533842194762927,\n",
       " '1_TtoIII_spread': 0.2600007248774467,\n",
       " '1_IItoIII_spread': 0.13315742875163752,\n",
       " '1_late_p': 0.4735048782595678,\n",
       " '1_c1_coef': 0.9371136881941134,\n",
       " '1_c2_coef': 0.019613533758609303,\n",
       " '1_c3_coef': 0.521638244511024}"
      ]
     },
     "execution_count": 15,
     "metadata": {},
     "output_type": "execute_result"
    }
   ],
   "source": [
    "mixture.get_params(as_dict =True)"
   ]
  },
  {
   "cell_type": "code",
   "execution_count": 29,
   "metadata": {},
   "outputs": [
    {
     "data": {
      "text/plain": [
       "-3783.4990931760067"
      ]
     },
     "execution_count": 29,
     "metadata": {},
     "output_type": "execute_result"
    }
   ],
   "source": [
    "mixture.likelihood()"
   ]
  },
  {
   "cell_type": "markdown",
   "metadata": {},
   "source": [
    "## Sample model parameters"
   ]
  },
  {
   "cell_type": "code",
   "execution_count": 19,
   "metadata": {},
   "outputs": [
    {
     "name": "stderr",
     "output_type": "stream",
     "text": [
      "100%|██████████| 20/20 [00:04<00:00,  4.87it/s]\n"
     ]
    },
    {
     "name": "stdout",
     "output_type": "stream",
     "text": [
      "0\n",
      "1\n",
      "2\n",
      "3\n",
      "4\n",
      "5\n",
      "6\n",
      "7\n",
      "8\n",
      "9\n",
      "10\n",
      "11\n",
      "12\n",
      "13\n",
      "14\n",
      "15\n",
      "16\n",
      "17\n",
      "18\n",
      "19\n",
      "20\n",
      "21\n",
      "22\n",
      "23\n",
      "24\n",
      "25\n",
      "26\n",
      "27\n",
      "28\n",
      "29\n",
      "30\n",
      "31\n",
      "32\n",
      "33\n",
      "34\n",
      "35\n",
      "36\n",
      "37\n",
      "38\n",
      "39\n",
      "40\n",
      "41\n",
      "42\n",
      "43\n",
      "44\n",
      "45\n",
      "46\n",
      "47\n",
      "48\n",
      "49\n"
     ]
    }
   ],
   "source": [
    "from lymixture.em import sample_model_params, get_complete_samples\n",
    "\n",
    "samples = sample_model_params(mixture, steps = 20)\n",
    "indices = np.random.choice(len(samples), 50, replace=False)\n",
    "reduced_set = samples[indices]\n",
    "complete_samples = get_complete_samples(mixture, reduced_set)"
   ]
  }
 ],
 "metadata": {
  "kernelspec": {
   "display_name": ".venv",
   "language": "python",
   "name": "python3"
  },
  "language_info": {
   "codemirror_mode": {
    "name": "ipython",
    "version": 3
   },
   "file_extension": ".py",
   "mimetype": "text/x-python",
   "name": "python",
   "nbconvert_exporter": "python",
   "pygments_lexer": "ipython3",
   "version": "3.10.12"
  }
 },
 "nbformat": 4,
 "nbformat_minor": 2
}
