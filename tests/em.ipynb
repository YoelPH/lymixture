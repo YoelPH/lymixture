{
 "cells": [
  {
   "cell_type": "code",
   "execution_count": null,
   "metadata": {},
   "outputs": [],
   "source": [
    "import numpy as np\n",
    "import pandas as pd\n",
    "\n",
    "rng = np.random.default_rng(12345)\n",
    "\n",
    "from lymixture import LymphMixture\n",
    "from lymixture.utils import binom_pmf, late_binomial, normalize\n",
    "from lymph.models import Unilateral\n",
    "\n",
    "PARAMS_C1 = {\n",
    "    \"TtoII_spread\": 0.5,\n",
    "    \"TtoIII_spread\": 0.25,\n",
    "    \"TtoIV_spread\": 0.1,\n",
    "    \"IItoIII_spread\": 0.4,\n",
    "    \"IIItoIV_spread\": 0.3,\n",
    "    \"late_p\": 0.5,\n",
    "}\n",
    "PARAMS_C2 = {\n",
    "    \"TtoII_spread\": 0.65,\n",
    "    \"TtoIII_spread\": 0.15,\n",
    "    \"TtoIV_spread\": 0.05,\n",
    "    \"IItoIII_spread\": 0.5,\n",
    "    \"IIItoIV_spread\": 0.4,\n",
    "    \"late_p\": 0.5,\n",
    "}"
   ]
  },
  {
   "cell_type": "code",
   "execution_count": null,
   "metadata": {},
   "outputs": [],
   "source": [
    "data = pd.read_csv(\"data/mixture.csv\", header=[0, 1, 2])\n",
    "# new_column = pd.MultiIndex.from_tuples([('diagnose', 'ipsi', ['II', 'III'])])\n",
    "\n",
    "# Initialize the new column with None values\n",
    "# data['diagnose', 'ipsi', 'II'] = None\n",
    "# data['diagnose', 'ipsi', 'III'] = None\n",
    "\n",
    "data"
   ]
  },
  {
   "cell_type": "code",
   "execution_count": null,
   "metadata": {},
   "outputs": [],
   "source": [
    "graph = {\n",
    "    (\"tumor\", \"T\"): [\"II\", \"III\"],\n",
    "    (\"lnl\", \"II\"): [\"III\"],\n",
    "    (\"lnl\", \"III\"): [],\n",
    "}\n",
    "num_components = 2\n",
    "\n",
    "mixture = LymphMixture(\n",
    "    model_cls=Unilateral,\n",
    "    model_kwargs={\"graph_dict\": graph},\n",
    "    num_components=num_components,\n",
    "    universal_p=False,\n",
    ")\n",
    "mixture.load_patient_data(\n",
    "    data,\n",
    "    split_by=(\"tumor\", \"1\", \"subsite\"),\n",
    "    mapping=lambda x: x,\n",
    ")"
   ]
  },
  {
   "cell_type": "markdown",
   "metadata": {},
   "source": [
    "Set the diagnostic modality to be the same as in the generated dataset."
   ]
  },
  {
   "cell_type": "code",
   "execution_count": null,
   "metadata": {},
   "outputs": [],
   "source": [
    "mixture.set_modality(\"path\", 1.0, 1.0)\n",
    "# mixture.set_modality(\"diagnose\", 1., 0.81 )\n",
    "mixture.get_all_modalities()"
   ]
  },
  {
   "cell_type": "markdown",
   "metadata": {},
   "source": [
    "Fix the distribution over diagnosis times for early T-stage (T1 & T2) to be a binomial distribution with a parameters $p=0.3$.\n",
    "\n",
    "The late T-stage's diagnosis time distribution is a binomial one with a free model parameter than needs to be learned as well."
   ]
  },
  {
   "cell_type": "code",
   "execution_count": null,
   "metadata": {},
   "outputs": [],
   "source": [
    "mixture.set_distribution(\"early\", binom_pmf(np.arange(11), 10, 0.3))\n",
    "mixture.set_distribution(\"late\", late_binomial)\n",
    "mixture.get_all_distributions()"
   ]
  },
  {
   "cell_type": "markdown",
   "metadata": {},
   "source": [
    "Initialize random model parameters and latent variables/responsibilities."
   ]
  },
  {
   "cell_type": "code",
   "execution_count": null,
   "metadata": {},
   "outputs": [],
   "source": [
    "from lymixture.em import expectation, maximization\n",
    "\n",
    "params = {k: rng.uniform() for k in mixture.get_params()}\n",
    "mixture.set_params(**params)\n",
    "mixture.normalize_mixture_coefs()\n",
    "latent = normalize(rng.uniform(size=mixture.get_resps().shape).T, axis=0).T"
   ]
  },
  {
   "cell_type": "code",
   "execution_count": null,
   "metadata": {},
   "outputs": [],
   "source": [
    "def to_numpy(params: dict[str, float]) -> np.ndarray:\n",
    "    return np.array([p for p in params.values()])"
   ]
  },
  {
   "cell_type": "code",
   "execution_count": null,
   "metadata": {},
   "outputs": [],
   "source": [
    "def check_convergence(params_history, likelihood_history, rtol=1e-4):\n",
    "    old_params, new_params = params_history[-2:]\n",
    "    old_llh, new_llh = likelihood_history[-2:]\n",
    "\n",
    "    return np.isclose(old_llh, new_llh) and np.allclose(\n",
    "        to_numpy(old_params), to_numpy(new_params),\n",
    "        rtol=rtol,\n",
    "    )"
   ]
  },
  {
   "cell_type": "markdown",
   "metadata": {},
   "source": [
    "Iterate the computation of the expectation value of the latent variables (E-step) and the maximization of the (complete) data log-likelihood w.r.t. the model parameters (M-step)."
   ]
  },
  {
   "cell_type": "code",
   "execution_count": null,
   "metadata": {},
   "outputs": [],
   "source": [
    "is_converged = False\n",
    "count = 0\n",
    "params_history = []\n",
    "likelihood_history = []\n",
    "params_history.append(params.copy())\n",
    "likelihood_history.append(mixture.likelihood(use_complete=False))\n",
    "\n",
    "while not is_converged:\n",
    "    print(f\"iteration {count}: {likelihood_history[-1]}\")\n",
    "\n",
    "    old_params = params\n",
    "    latent = expectation(mixture, params)\n",
    "    assert np.allclose(latent.sum(axis=1), 1.)\n",
    "    params = maximization(mixture, latent)\n",
    "\n",
    "    # Append current params and likelihood to history\n",
    "    params_history.append(params.copy())\n",
    "    likelihood_history.append(mixture.likelihood(use_complete=False))\n",
    "\n",
    "    # Check if converged\n",
    "    count += 1\n",
    "\n",
    "    if count < 2:\n",
    "        continue\n",
    "\n",
    "    is_converged = check_convergence(params_history, likelihood_history, rtol=1e-2)"
   ]
  },
  {
   "cell_type": "code",
   "execution_count": null,
   "metadata": {},
   "outputs": [],
   "source": [
    "mixture.get_params(as_dict=True)"
   ]
  },
  {
   "cell_type": "code",
   "execution_count": null,
   "metadata": {},
   "outputs": [],
   "source": [
    "mixture.likelihood()"
   ]
  },
  {
   "cell_type": "markdown",
   "metadata": {},
   "source": [
    "## Sample model parameters"
   ]
  },
  {
   "cell_type": "code",
   "execution_count": null,
   "metadata": {},
   "outputs": [],
   "source": [
    "from lymixture.em import get_complete_samples, sample_model_params\n",
    "\n",
    "samples = sample_model_params(mixture, steps=20)\n",
    "indices = np.random.choice(len(samples), 50, replace=False)\n",
    "reduced_set = samples[indices]\n",
    "complete_samples = get_complete_samples(mixture, reduced_set)"
   ]
  }
 ],
 "metadata": {
  "kernelspec": {
   "display_name": ".venv",
   "language": "python",
   "name": "python3"
  },
  "language_info": {
   "codemirror_mode": {
    "name": "ipython",
    "version": 3
   },
   "file_extension": ".py",
   "mimetype": "text/x-python",
   "name": "python",
   "nbconvert_exporter": "python",
   "pygments_lexer": "ipython3",
   "version": "3.10.12"
  }
 },
 "nbformat": 4,
 "nbformat_minor": 2
}
