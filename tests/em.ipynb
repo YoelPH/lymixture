{
 "cells": [
  {
   "cell_type": "code",
   "execution_count": 3,
   "metadata": {},
   "outputs": [],
   "source": [
    "import numpy as np\n",
    "import pandas as pd\n",
    "rng = np.random.default_rng(12345)\n",
    "\n",
    "from lymph.models import Unilateral\n",
    "from lymixture import LymphMixture\n",
    "from lymixture.utils import binom_pmf, late_binomial, normalize\n",
    "from fixtures import get_patient_data\n",
    "PARAMS_C1 = {\n",
    "    \"TtoII_spread\": 0.5,\n",
    "    \"TtoIII_spread\": 0.25,\n",
    "    \"TtoIV_spread\": 0.1,\n",
    "    \"IItoIII_spread\": 0.4,\n",
    "    \"IIItoIV_spread\": 0.3,\n",
    "    \"late_p\": 0.5,\n",
    "}\n",
    "PARAMS_C2 = {\n",
    "    \"TtoII_spread\": 0.65,\n",
    "    \"TtoIII_spread\": 0.15,\n",
    "    \"TtoIV_spread\": 0.05,\n",
    "    \"IItoIII_spread\": 0.5,\n",
    "    \"IIItoIV_spread\": 0.4,\n",
    "    \"late_p\": 0.5,\n",
    "}"
   ]
  },
  {
   "cell_type": "code",
   "execution_count": 4,
   "metadata": {},
   "outputs": [
    {
     "data": {
      "text/html": [
       "<div>\n",
       "<style scoped>\n",
       "    .dataframe tbody tr th:only-of-type {\n",
       "        vertical-align: middle;\n",
       "    }\n",
       "\n",
       "    .dataframe tbody tr th {\n",
       "        vertical-align: top;\n",
       "    }\n",
       "\n",
       "    .dataframe thead tr th {\n",
       "        text-align: left;\n",
       "    }\n",
       "</style>\n",
       "<table border=\"1\" class=\"dataframe\">\n",
       "  <thead>\n",
       "    <tr>\n",
       "      <th></th>\n",
       "      <th colspan=\"2\" halign=\"left\">path</th>\n",
       "      <th colspan=\"2\" halign=\"left\">tumor</th>\n",
       "    </tr>\n",
       "    <tr>\n",
       "      <th></th>\n",
       "      <th colspan=\"2\" halign=\"left\">ipsi</th>\n",
       "      <th colspan=\"2\" halign=\"left\">1</th>\n",
       "    </tr>\n",
       "    <tr>\n",
       "      <th></th>\n",
       "      <th>II</th>\n",
       "      <th>III</th>\n",
       "      <th>t_stage</th>\n",
       "      <th>subsite</th>\n",
       "    </tr>\n",
       "  </thead>\n",
       "  <tbody>\n",
       "    <tr>\n",
       "      <th>0</th>\n",
       "      <td>False</td>\n",
       "      <td>True</td>\n",
       "      <td>late</td>\n",
       "      <td>c1</td>\n",
       "    </tr>\n",
       "    <tr>\n",
       "      <th>1</th>\n",
       "      <td>False</td>\n",
       "      <td>True</td>\n",
       "      <td>early</td>\n",
       "      <td>c1</td>\n",
       "    </tr>\n",
       "    <tr>\n",
       "      <th>2</th>\n",
       "      <td>False</td>\n",
       "      <td>True</td>\n",
       "      <td>early</td>\n",
       "      <td>c1</td>\n",
       "    </tr>\n",
       "    <tr>\n",
       "      <th>3</th>\n",
       "      <td>False</td>\n",
       "      <td>False</td>\n",
       "      <td>early</td>\n",
       "      <td>c1</td>\n",
       "    </tr>\n",
       "    <tr>\n",
       "      <th>4</th>\n",
       "      <td>False</td>\n",
       "      <td>True</td>\n",
       "      <td>early</td>\n",
       "      <td>c1</td>\n",
       "    </tr>\n",
       "    <tr>\n",
       "      <th>...</th>\n",
       "      <td>...</td>\n",
       "      <td>...</td>\n",
       "      <td>...</td>\n",
       "      <td>...</td>\n",
       "    </tr>\n",
       "    <tr>\n",
       "      <th>2995</th>\n",
       "      <td>True</td>\n",
       "      <td>True</td>\n",
       "      <td>early</td>\n",
       "      <td>c3</td>\n",
       "    </tr>\n",
       "    <tr>\n",
       "      <th>2996</th>\n",
       "      <td>True</td>\n",
       "      <td>True</td>\n",
       "      <td>late</td>\n",
       "      <td>c3</td>\n",
       "    </tr>\n",
       "    <tr>\n",
       "      <th>2997</th>\n",
       "      <td>False</td>\n",
       "      <td>False</td>\n",
       "      <td>early</td>\n",
       "      <td>c3</td>\n",
       "    </tr>\n",
       "    <tr>\n",
       "      <th>2998</th>\n",
       "      <td>True</td>\n",
       "      <td>False</td>\n",
       "      <td>early</td>\n",
       "      <td>c3</td>\n",
       "    </tr>\n",
       "    <tr>\n",
       "      <th>2999</th>\n",
       "      <td>True</td>\n",
       "      <td>False</td>\n",
       "      <td>early</td>\n",
       "      <td>c3</td>\n",
       "    </tr>\n",
       "  </tbody>\n",
       "</table>\n",
       "<p>3000 rows × 4 columns</p>\n",
       "</div>"
      ],
      "text/plain": [
       "       path          tumor        \n",
       "       ipsi              1        \n",
       "         II    III t_stage subsite\n",
       "0     False   True    late      c1\n",
       "1     False   True   early      c1\n",
       "2     False   True   early      c1\n",
       "3     False  False   early      c1\n",
       "4     False   True   early      c1\n",
       "...     ...    ...     ...     ...\n",
       "2995   True   True   early      c3\n",
       "2996   True   True    late      c3\n",
       "2997  False  False   early      c3\n",
       "2998   True  False   early      c3\n",
       "2999   True  False   early      c3\n",
       "\n",
       "[3000 rows x 4 columns]"
      ]
     },
     "execution_count": 4,
     "metadata": {},
     "output_type": "execute_result"
    }
   ],
   "source": [
    "data = pd.read_csv(\"data/mixture.csv\", header=[0,1,2])\n",
    "# new_column = pd.MultiIndex.from_tuples([('diagnose', 'ipsi', ['II', 'III'])])\n",
    "\n",
    "# Initialize the new column with None values\n",
    "# data['diagnose', 'ipsi', 'II'] = None\n",
    "# data['diagnose', 'ipsi', 'III'] = None\n",
    "\n",
    "data\n"
   ]
  },
  {
   "cell_type": "code",
   "execution_count": 5,
   "metadata": {},
   "outputs": [],
   "source": [
    "graph = {\n",
    "    (\"tumor\", \"T\"): [\"II\", \"III\"],\n",
    "    (\"lnl\", \"II\"): [\"III\"],\n",
    "    (\"lnl\", \"III\"): [],\n",
    "}\n",
    "num_components = 2\n",
    "\n",
    "mixture = LymphMixture(\n",
    "    model_cls=Unilateral,\n",
    "    model_kwargs={\"graph_dict\": graph},\n",
    "    num_components=num_components,\n",
    "    universal_p= False\n",
    ")\n",
    "mixture.load_patient_data(\n",
    "    data,\n",
    "    split_by=(\"tumor\", \"1\", \"subsite\"),\n",
    "    mapping=lambda x: x,\n",
    ")"
   ]
  },
  {
   "cell_type": "markdown",
   "metadata": {},
   "source": [
    "Set the diagnostic modality to be the same as in the generated dataset."
   ]
  },
  {
   "cell_type": "code",
   "execution_count": 6,
   "metadata": {},
   "outputs": [
    {
     "data": {
      "text/plain": [
       "{'path': Clinical(spec=1.0, sens=1.0, is_trinary=False)}"
      ]
     },
     "execution_count": 6,
     "metadata": {},
     "output_type": "execute_result"
    }
   ],
   "source": [
    "mixture.set_modality(\"path\", 1., 1.)\n",
    "# mixture.set_modality(\"diagnose\", 1., 0.81 )\n",
    "mixture.get_all_modalities()"
   ]
  },
  {
   "cell_type": "markdown",
   "metadata": {},
   "source": [
    "Fix the distribution over diagnosis times for early T-stage (T1 & T2) to be a binomial distribution with a parameters $p=0.3$.\n",
    "\n",
    "The late T-stage's diagnosis time distribution is a binomial one with a free model parameter than needs to be learned as well."
   ]
  },
  {
   "cell_type": "code",
   "execution_count": 7,
   "metadata": {},
   "outputs": [
    {
     "data": {
      "text/plain": [
       "{'early': Distribution([0.0282475249, 0.121060821, 0.23347444050000002, 0.266827932, 0.20012094900000002, 0.1029193452, 0.03675690900000001, 0.009001692, 0.0014467005000000002, 0.00013778100000000004, 5.904900000000001e-06]),\n",
       " 'late': Distribution([0.0009765625, 0.009765625, 0.0439453125, 0.1171875, 0.205078125, 0.24609375, 0.205078125, 0.1171875, 0.0439453125, 0.009765625, 0.0009765625])}"
      ]
     },
     "execution_count": 7,
     "metadata": {},
     "output_type": "execute_result"
    }
   ],
   "source": [
    "mixture.set_distribution(\"early\", binom_pmf(np.arange(11), 10, 0.3))\n",
    "mixture.set_distribution(\"late\", late_binomial)\n",
    "mixture.get_all_distributions()"
   ]
  },
  {
   "cell_type": "markdown",
   "metadata": {},
   "source": [
    "Initialize random model parameters and latent variables/responsibilities."
   ]
  },
  {
   "cell_type": "code",
   "execution_count": 17,
   "metadata": {},
   "outputs": [],
   "source": [
    "from lymixture.em import expectation, maximization\n",
    "\n",
    "params = {k: rng.uniform() for k in mixture.get_params()}\n",
    "mixture.set_params(**params)\n",
    "mixture.normalize_mixture_coefs()\n",
    "latent = normalize(rng.uniform(size=mixture.get_resps().shape).T, axis=0).T"
   ]
  },
  {
   "cell_type": "code",
   "execution_count": 20,
   "metadata": {},
   "outputs": [],
   "source": [
    "def to_numpy(params: dict[str, float]) -> np.ndarray:\n",
    "    return np.array([p for p in params.values()])"
   ]
  },
  {
   "cell_type": "code",
   "execution_count": 12,
   "metadata": {},
   "outputs": [
    {
     "data": {
      "text/plain": [
       "{'0_TtoII_spread': 0.020849019688845005,\n",
       " '0_TtoIII_spread': 0.4812701641134445,\n",
       " '0_IItoIII_spread': 0.9822470072535524,\n",
       " '0_late_p': 0.625756249862707,\n",
       " '0_c1_coef': 0.9659539609011183,\n",
       " '0_c2_coef': 0.7890128239753627,\n",
       " '0_c3_coef': 0.5713461630202451,\n",
       " '1_TtoII_spread': 0.760006539229159,\n",
       " '1_TtoIII_spread': 0.2032222711690339,\n",
       " '1_IItoIII_spread': 0.3293068234312516,\n",
       " '1_late_p': 0.44985180128356617,\n",
       " '1_c1_coef': 0.03404603909888172,\n",
       " '1_c2_coef': 0.21098717602463735,\n",
       " '1_c3_coef': 0.4286538369797549}"
      ]
     },
     "execution_count": 12,
     "metadata": {},
     "output_type": "execute_result"
    }
   ],
   "source": [
    "mixture.get_params()"
   ]
  },
  {
   "cell_type": "markdown",
   "metadata": {},
   "source": [
    "Iterate the computation of the expectation value of the latent variables (E-step) and the maximization of the (complete) data log-likelihood w.r.t. the model parameters (M-step)."
   ]
  },
  {
   "cell_type": "code",
   "execution_count": 21,
   "metadata": {},
   "outputs": [
    {
     "name": "stdout",
     "output_type": "stream",
     "text": [
      "0\n",
      "1\n",
      "2\n",
      "3\n",
      "4\n",
      "5\n",
      "6\n",
      "7\n",
      "8\n",
      "9\n",
      "10\n",
      "11\n",
      "12\n",
      "13\n",
      "14\n",
      "15\n",
      "16\n",
      "17\n",
      "18\n",
      "19\n",
      "20\n",
      "21\n",
      "22\n",
      "23\n",
      "24\n",
      "25\n",
      "26\n",
      "27\n",
      "28\n",
      "29\n",
      "30\n",
      "31\n",
      "32\n",
      "33\n",
      "34\n",
      "35\n",
      "36\n",
      "37\n",
      "38\n",
      "39\n",
      "40\n",
      "41\n",
      "42\n",
      "43\n",
      "44\n",
      "45\n",
      "46\n",
      "47\n",
      "48\n",
      "49\n",
      "50\n",
      "51\n",
      "52\n",
      "53\n",
      "54\n",
      "55\n",
      "56\n",
      "57\n",
      "58\n",
      "59\n",
      "60\n",
      "61\n",
      "62\n",
      "63\n",
      "64\n",
      "65\n",
      "66\n",
      "67\n",
      "68\n",
      "69\n",
      "70\n",
      "71\n",
      "72\n",
      "73\n",
      "74\n",
      "75\n",
      "76\n",
      "77\n",
      "78\n",
      "79\n"
     ]
    },
    {
     "data": {
      "text/plain": [
       "80"
      ]
     },
     "execution_count": 21,
     "metadata": {},
     "output_type": "execute_result"
    }
   ],
   "source": [
    "is_converged = False\n",
    "count = 0\n",
    "\n",
    "while not is_converged:\n",
    "    print(count)\n",
    "    old_params = params\n",
    "    latent = expectation(mixture, params)\n",
    "    params = maximization(mixture, latent)\n",
    "    is_converged = np.allclose(to_numpy(params), to_numpy(old_params))\n",
    "    count += 1\n",
    "\n",
    "count"
   ]
  },
  {
   "cell_type": "code",
   "execution_count": 22,
   "metadata": {},
   "outputs": [
    {
     "data": {
      "text/plain": [
       "{'0_TtoII_spread': 0.2541983818385646,\n",
       " '0_TtoIII_spread': 0.08155469169240345,\n",
       " '0_IItoIII_spread': 0.04484739670390461,\n",
       " '0_late_p': 0.4236116039214868,\n",
       " '0_c1_coef': 6.610696135189607e-05,\n",
       " '0_c2_coef': 0.9999338930386481,\n",
       " '0_c3_coef': 0.4532666847788751,\n",
       " '1_TtoII_spread': 0.07368960284054812,\n",
       " '1_TtoIII_spread': 0.25177421262273714,\n",
       " '1_IItoIII_spread': 6.610696135189607e-05,\n",
       " '1_late_p': 0.47323689720695056,\n",
       " '1_c1_coef': 0.9999338930386481,\n",
       " '1_c2_coef': 6.61069613518972e-05,\n",
       " '1_c3_coef': 0.5467333152211249}"
      ]
     },
     "execution_count": 22,
     "metadata": {},
     "output_type": "execute_result"
    }
   ],
   "source": [
    "mixture.get_params(as_dict =True)"
   ]
  },
  {
   "cell_type": "code",
   "execution_count": 23,
   "metadata": {},
   "outputs": [
    {
     "data": {
      "text/plain": [
       "array([[6.61069614e-05, 9.99933893e-01, 4.53266685e-01],\n",
       "       [9.99933893e-01, 6.61069614e-05, 5.46733315e-01]])"
      ]
     },
     "execution_count": 23,
     "metadata": {},
     "output_type": "execute_result"
    }
   ],
   "source": [
    "mixture_coefs = mixture.get_mixture_coefs().to_numpy()\n",
    "mixture_coefs"
   ]
  },
  {
   "cell_type": "code",
   "execution_count": null,
   "metadata": {},
   "outputs": [
    {
     "data": {
      "text/html": [
       "<div>\n",
       "<style scoped>\n",
       "    .dataframe tbody tr th:only-of-type {\n",
       "        vertical-align: middle;\n",
       "    }\n",
       "\n",
       "    .dataframe tbody tr th {\n",
       "        vertical-align: top;\n",
       "    }\n",
       "\n",
       "    .dataframe thead th {\n",
       "        text-align: right;\n",
       "    }\n",
       "</style>\n",
       "<table border=\"1\" class=\"dataframe\">\n",
       "  <thead>\n",
       "    <tr style=\"text-align: right;\">\n",
       "      <th></th>\n",
       "      <th>0</th>\n",
       "      <th>1</th>\n",
       "    </tr>\n",
       "  </thead>\n",
       "  <tbody>\n",
       "    <tr>\n",
       "      <th>0</th>\n",
       "      <td>0.999989</td>\n",
       "      <td>0.000011</td>\n",
       "    </tr>\n",
       "    <tr>\n",
       "      <th>1</th>\n",
       "      <td>0.999987</td>\n",
       "      <td>0.000013</td>\n",
       "    </tr>\n",
       "    <tr>\n",
       "      <th>2</th>\n",
       "      <td>0.999987</td>\n",
       "      <td>0.000013</td>\n",
       "    </tr>\n",
       "    <tr>\n",
       "      <th>3</th>\n",
       "      <td>0.999932</td>\n",
       "      <td>0.000068</td>\n",
       "    </tr>\n",
       "    <tr>\n",
       "      <th>4</th>\n",
       "      <td>0.999987</td>\n",
       "      <td>0.000013</td>\n",
       "    </tr>\n",
       "    <tr>\n",
       "      <th>...</th>\n",
       "      <td>...</td>\n",
       "      <td>...</td>\n",
       "    </tr>\n",
       "    <tr>\n",
       "      <th>2995</th>\n",
       "      <td>0.503241</td>\n",
       "      <td>0.496759</td>\n",
       "    </tr>\n",
       "    <tr>\n",
       "      <th>2996</th>\n",
       "      <td>0.499489</td>\n",
       "      <td>0.500511</td>\n",
       "    </tr>\n",
       "    <tr>\n",
       "      <th>2997</th>\n",
       "      <td>0.543768</td>\n",
       "      <td>0.456232</td>\n",
       "    </tr>\n",
       "    <tr>\n",
       "      <th>2998</th>\n",
       "      <td>0.193783</td>\n",
       "      <td>0.806217</td>\n",
       "    </tr>\n",
       "    <tr>\n",
       "      <th>2999</th>\n",
       "      <td>0.193783</td>\n",
       "      <td>0.806217</td>\n",
       "    </tr>\n",
       "  </tbody>\n",
       "</table>\n",
       "<p>3000 rows × 2 columns</p>\n",
       "</div>"
      ],
      "text/plain": [
       "             0         1\n",
       "0     0.999989  0.000011\n",
       "1     0.999987  0.000013\n",
       "2     0.999987  0.000013\n",
       "3     0.999932  0.000068\n",
       "4     0.999987  0.000013\n",
       "...        ...       ...\n",
       "2995  0.503241  0.496759\n",
       "2996  0.499489  0.500511\n",
       "2997  0.543768  0.456232\n",
       "2998  0.193783  0.806217\n",
       "2999  0.193783  0.806217\n",
       "\n",
       "[3000 rows x 2 columns]"
      ]
     },
     "execution_count": 26,
     "metadata": {},
     "output_type": "execute_result"
    }
   ],
   "source": [
    "mixture.get_resps()"
   ]
  },
  {
   "cell_type": "code",
   "execution_count": 32,
   "metadata": {},
   "outputs": [
    {
     "data": {
      "text/plain": [
       "{'TtoII_spread': 0.2541983818385646,\n",
       " 'TtoIII_spread': 0.08155469169240345,\n",
       " 'IItoIII_spread': 0.04484739670390461,\n",
       " 'late_p': 0.4236116039214868}"
      ]
     },
     "execution_count": 32,
     "metadata": {},
     "output_type": "execute_result"
    }
   ],
   "source": [
    "mixture.components[0].get_params()"
   ]
  },
  {
   "cell_type": "code",
   "execution_count": 29,
   "metadata": {},
   "outputs": [
    {
     "data": {
      "text/plain": [
       "-3783.4990931760067"
      ]
     },
     "execution_count": 29,
     "metadata": {},
     "output_type": "execute_result"
    }
   ],
   "source": [
    "mixture.likelihood()"
   ]
  },
  {
   "cell_type": "code",
   "execution_count": null,
   "metadata": {},
   "outputs": [
    {
     "data": {
      "text/html": [
       "<div>\n",
       "<style scoped>\n",
       "    .dataframe tbody tr th:only-of-type {\n",
       "        vertical-align: middle;\n",
       "    }\n",
       "\n",
       "    .dataframe tbody tr th {\n",
       "        vertical-align: top;\n",
       "    }\n",
       "\n",
       "    .dataframe thead th {\n",
       "        text-align: right;\n",
       "    }\n",
       "</style>\n",
       "<table border=\"1\" class=\"dataframe\">\n",
       "  <thead>\n",
       "    <tr style=\"text-align: right;\">\n",
       "      <th></th>\n",
       "      <th>c1</th>\n",
       "      <th>c2</th>\n",
       "      <th>c3</th>\n",
       "    </tr>\n",
       "  </thead>\n",
       "  <tbody>\n",
       "    <tr>\n",
       "      <th>0</th>\n",
       "      <td>0.999934</td>\n",
       "      <td>0.000066</td>\n",
       "      <td>0.549033</td>\n",
       "    </tr>\n",
       "    <tr>\n",
       "      <th>1</th>\n",
       "      <td>0.000066</td>\n",
       "      <td>0.999934</td>\n",
       "      <td>0.450967</td>\n",
       "    </tr>\n",
       "  </tbody>\n",
       "</table>\n",
       "</div>"
      ],
      "text/plain": [
       "         c1        c2        c3\n",
       "0  0.999934  0.000066  0.549033\n",
       "1  0.000066  0.999934  0.450967"
      ]
     },
     "execution_count": 29,
     "metadata": {},
     "output_type": "execute_result"
    }
   ],
   "source": [
    "mixture.get_mixture_coefs()"
   ]
  },
  {
   "cell_type": "code",
   "execution_count": null,
   "metadata": {},
   "outputs": [
    {
     "data": {
      "text/plain": [
       "array([0.37156805, 0.42267438, 0.07545927, 0.13029829])"
      ]
     },
     "execution_count": 16,
     "metadata": {},
     "output_type": "execute_result"
    }
   ],
   "source": [
    "mixture.state_dist(subgroup='c1')"
   ]
  },
  {
   "cell_type": "code",
   "execution_count": null,
   "metadata": {},
   "outputs": [
    {
     "name": "stdout",
     "output_type": "stream",
     "text": [
      "0.04043392233510655\n"
     ]
    }
   ],
   "source": [
    "mixture.set_modality(\"diagnose\", 1., 0.81 )\n",
    "\n",
    "print(mixture.risk(subgroup='c1', involvement = {'II': True, 'III': None}, given_diagnosis={'diagnose':{'II': False, 'III': False}}))\n",
    "mixture.del_modality(\"diagnose\")"
   ]
  },
  {
   "cell_type": "code",
   "execution_count": null,
   "metadata": {},
   "outputs": [
    {
     "data": {
      "text/plain": [
       "0.5529726723375737"
      ]
     },
     "execution_count": 18,
     "metadata": {},
     "output_type": "execute_result"
    }
   ],
   "source": [
    "mixture.risk(subgroup='c1', involvement = {'II': None, 'III': True}, given_diagnosis=None)"
   ]
  },
  {
   "cell_type": "code",
   "execution_count": null,
   "metadata": {},
   "outputs": [
    {
     "data": {
      "text/plain": [
       "II     235\n",
       "III    609\n",
       "dtype: int64"
      ]
     },
     "execution_count": 19,
     "metadata": {},
     "output_type": "execute_result"
    }
   ],
   "source": [
    "mixture.subgroups['c1'].patient_data['_model']['path'].sum()"
   ]
  },
  {
   "cell_type": "code",
   "execution_count": null,
   "metadata": {},
   "outputs": [
    {
     "data": {
      "text/plain": [
       "array([[1., 0., 0., 0.],\n",
       "       [0., 1., 0., 0.],\n",
       "       [0., 0., 1., 0.],\n",
       "       [0., 0., 0., 1.]])"
      ]
     },
     "execution_count": 20,
     "metadata": {},
     "output_type": "execute_result"
    }
   ],
   "source": [
    "mixture.subgroups['c1'].observation_matrix().T"
   ]
  },
  {
   "cell_type": "code",
   "execution_count": null,
   "metadata": {},
   "outputs": [
    {
     "data": {
      "text/plain": [
       "array([ True,  True,  True,  True])"
      ]
     },
     "execution_count": 21,
     "metadata": {},
     "output_type": "execute_result"
    }
   ],
   "source": [
    "diagnosis = {'diagnose':{'II': True, 'III': True}}\n",
    "mixture.subgroups['c1'].compute_encoding(diagnosis)"
   ]
  }
 ],
 "metadata": {
  "kernelspec": {
   "display_name": ".venv",
   "language": "python",
   "name": "python3"
  },
  "language_info": {
   "codemirror_mode": {
    "name": "ipython",
    "version": 3
   },
   "file_extension": ".py",
   "mimetype": "text/x-python",
   "name": "python",
   "nbconvert_exporter": "python",
   "pygments_lexer": "ipython3",
   "version": "3.10.12"
  }
 },
 "nbformat": 4,
 "nbformat_minor": 2
}
