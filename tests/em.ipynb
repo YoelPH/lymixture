{
 "cells": [
  {
   "cell_type": "code",
   "execution_count": 1,
   "metadata": {},
   "outputs": [],
   "source": [
    "import numpy as np\n",
    "import pandas as pd\n",
    "rng = np.random.default_rng(12345)\n",
    "\n",
    "from lymph.models import Unilateral\n",
    "from lymixture import LymphMixture\n",
    "from lymixture.utils import binom_pmf, late_binomial, normalize\n",
    "from fixtures import (\n",
    "    get_graph,\n",
    "    get_patient_data,\n",
    "    MODALITIES,\n",
    ")\n",
    "PARAMS_C1 = {\n",
    "    \"TtoII\": 0.5,\n",
    "    \"TtoIII\": 0.25,\n",
    "    \"TtoIV\": 0.1,\n",
    "    \"IItoIII\": 0.4,\n",
    "    \"IIItoIV\": 0.3,\n",
    "    \"late_p\": 0.5,\n",
    "}\n",
    "PARAMS_C2 = {\n",
    "    \"TtoII\": 0.65,\n",
    "    \"TtoIII\": 0.15,\n",
    "    \"TtoIV\": 0.05,\n",
    "    \"IItoIII\": 0.5,\n",
    "    \"IIItoIV\": 0.4,\n",
    "    \"late_p\": 0.5,\n",
    "}"
   ]
  },
  {
   "cell_type": "code",
   "execution_count": 2,
   "metadata": {},
   "outputs": [],
   "source": [
    "graph = {\n",
    "    (\"tumor\", \"T\"): [\"II\", \"III\"],\n",
    "    (\"lnl\", \"II\"): [\"III\"],\n",
    "    (\"lnl\", \"III\"): [],\n",
    "}\n",
    "patient_data = get_patient_data()\n",
    "num_components = 2\n",
    "\n",
    "mixture = LymphMixture(\n",
    "    model_cls=Unilateral,\n",
    "    model_kwargs={\"graph_dict\": graph},\n",
    "    num_components=num_components,\n",
    ")\n",
    "data = pd.read_csv(\"data/mixture.csv\", header=[0,1,2])\n",
    "mixture.load_patient_data(data, split_by=(\"tumor\", \"1\", \"subsite\"), mapping=lambda x: x)\n",
    "\n",
    "mixture.set_modality(\"path\", 1., 1.)"
   ]
  },
  {
   "cell_type": "code",
   "execution_count": 3,
   "metadata": {},
   "outputs": [
    {
     "data": {
      "text/plain": [
       "{'early': Distribution([0.0282475249, 0.121060821, 0.23347444050000002, 0.266827932, 0.20012094900000002, 0.1029193452, 0.03675690900000001, 0.009001692, 0.0014467005000000002, 0.00013778100000000004, 5.904900000000001e-06]),\n",
       " 'late': Distribution([0.0009765625, 0.009765625, 0.0439453125, 0.1171875, 0.205078125, 0.24609375, 0.205078125, 0.1171875, 0.0439453125, 0.009765625, 0.0009765625])}"
      ]
     },
     "execution_count": 3,
     "metadata": {},
     "output_type": "execute_result"
    }
   ],
   "source": [
    "mixture.set_distribution(\"early\", binom_pmf(np.arange(11), 10, 0.3))\n",
    "mixture.set_distribution(\"late\", late_binomial)\n",
    "mixture.get_all_distributions()"
   ]
  },
  {
   "cell_type": "code",
   "execution_count": 4,
   "metadata": {},
   "outputs": [],
   "source": [
    "from lymixture.em import expectation, maximization\n",
    "\n",
    "params = {k: rng.uniform() for k in mixture.get_params()}\n",
    "mixture.set_params(**params)\n",
    "mixture.normalize_mixture_coefs()\n",
    "\n",
    "latent = normalize(np.ones_like(mixture.get_resps()).T, axis=0).T"
   ]
  },
  {
   "cell_type": "code",
   "execution_count": 5,
   "metadata": {},
   "outputs": [
    {
     "data": {
      "text/html": [
       "<div>\n",
       "<style scoped>\n",
       "    .dataframe tbody tr th:only-of-type {\n",
       "        vertical-align: middle;\n",
       "    }\n",
       "\n",
       "    .dataframe tbody tr th {\n",
       "        vertical-align: top;\n",
       "    }\n",
       "\n",
       "    .dataframe thead th {\n",
       "        text-align: right;\n",
       "    }\n",
       "</style>\n",
       "<table border=\"1\" class=\"dataframe\">\n",
       "  <thead>\n",
       "    <tr style=\"text-align: right;\">\n",
       "      <th></th>\n",
       "      <th>c1</th>\n",
       "      <th>c2</th>\n",
       "      <th>c3</th>\n",
       "    </tr>\n",
       "  </thead>\n",
       "  <tbody>\n",
       "    <tr>\n",
       "      <th>0</th>\n",
       "      <td>0.417942</td>\n",
       "      <td>0.611725</td>\n",
       "      <td>0.259667</td>\n",
       "    </tr>\n",
       "    <tr>\n",
       "      <th>1</th>\n",
       "      <td>0.582058</td>\n",
       "      <td>0.388275</td>\n",
       "      <td>0.740333</td>\n",
       "    </tr>\n",
       "  </tbody>\n",
       "</table>\n",
       "</div>"
      ],
      "text/plain": [
       "         c1        c2        c3\n",
       "0  0.417942  0.611725  0.259667\n",
       "1  0.582058  0.388275  0.740333"
      ]
     },
     "execution_count": 5,
     "metadata": {},
     "output_type": "execute_result"
    }
   ],
   "source": [
    "mixture.get_mixture_coefs()"
   ]
  },
  {
   "cell_type": "code",
   "execution_count": 6,
   "metadata": {},
   "outputs": [
    {
     "name": "stderr",
     "output_type": "stream",
     "text": [
      "/home/rmnldwg/repos/lymixture/lymixture/models.py:185: RuntimeWarning: divide by zero encountered in log\n",
      "  return np.log(res) if log else res\n"
     ]
    }
   ],
   "source": [
    "params = maximization(mixture, latent)"
   ]
  },
  {
   "cell_type": "code",
   "execution_count": 7,
   "metadata": {},
   "outputs": [],
   "source": [
    "latent = expectation(mixture, params)"
   ]
  },
  {
   "cell_type": "code",
   "execution_count": 8,
   "metadata": {},
   "outputs": [],
   "source": [
    "def to_numpy(params: dict[str, float]) -> np.ndarray:\n",
    "    return np.array([p for p in params.values()])"
   ]
  },
  {
   "cell_type": "code",
   "execution_count": 9,
   "metadata": {},
   "outputs": [
    {
     "data": {
      "text/plain": [
       "{'0_TtoII_spread': 0.0890498387369957,\n",
       " '0_TtoIII_spread': 0.3365327913205429,\n",
       " '0_IItoIII_spread': 0.999950245757657,\n",
       " '0_c1_coef': 0.8486886120326795,\n",
       " '0_c2_coef': 6.610696135189607e-05,\n",
       " '0_c3_coef': 0.5266330398607697,\n",
       " '1_TtoII_spread': 0.2812826613804874,\n",
       " '1_TtoIII_spread': 0.08792314890704245,\n",
       " '1_IItoIII_spread': 0.26241678192160744,\n",
       " '1_c1_coef': 0.15131138796732047,\n",
       " '1_c2_coef': 0.9999338930386481,\n",
       " '1_c3_coef': 0.4733669601392303,\n",
       " 'late_p': 0.5143081802000884}"
      ]
     },
     "execution_count": 9,
     "metadata": {},
     "output_type": "execute_result"
    }
   ],
   "source": [
    "converged = False\n",
    "count = 0\n",
    "\n",
    "while not converged:\n",
    "    old_params = params\n",
    "    params = maximization(mixture, latent)\n",
    "    latent = expectation(mixture, params)\n",
    "    converged = np.allclose(to_numpy(params), to_numpy(old_params))\n",
    "    count += 1\n",
    "\n",
    "mixture.get_params()"
   ]
  },
  {
   "cell_type": "code",
   "execution_count": 10,
   "metadata": {},
   "outputs": [
    {
     "data": {
      "text/plain": [
       "23"
      ]
     },
     "execution_count": 10,
     "metadata": {},
     "output_type": "execute_result"
    }
   ],
   "source": [
    "count"
   ]
  }
 ],
 "metadata": {
  "kernelspec": {
   "display_name": ".venv",
   "language": "python",
   "name": "python3"
  },
  "language_info": {
   "codemirror_mode": {
    "name": "ipython",
    "version": 3
   },
   "file_extension": ".py",
   "mimetype": "text/x-python",
   "name": "python",
   "nbconvert_exporter": "python",
   "pygments_lexer": "ipython3",
   "version": "3.10.12"
  }
 },
 "nbformat": 4,
 "nbformat_minor": 2
}
