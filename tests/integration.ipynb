{
 "cells": [
  {
   "cell_type": "code",
   "execution_count": null,
   "metadata": {},
   "outputs": [],
   "source": [
    "import numpy as np\n",
    "rng = np.random.default_rng(12345)\n",
    "\n",
    "from lymph.models import Unilateral\n",
    "from lymixture import LymphMixture\n",
    "from lymixture.utils import map_to_simplex\n",
    "from fixtures import (\n",
    "    get_graph,\n",
    "    get_patient_data,\n",
    "    SIMPLE_SUBSITE,\n",
    ")"
   ]
  },
  {
   "cell_type": "code",
   "execution_count": null,
   "metadata": {},
   "outputs": [],
   "source": [
    "graph = get_graph(size=\"medium\")\n",
    "patient_data = get_patient_data()\n",
    "num_components = 3\n",
    "\n",
    "mixture = LymphMixture(\n",
    "    model_cls=Unilateral,\n",
    "    model_kwargs={\"graph_dict\": graph},\n",
    "    num_components=num_components,\n",
    ")\n",
    "mixture.load_patient_data(patient_data, split_by=SIMPLE_SUBSITE)\n",
    "mixture.set_modality(\"max_llh\", spec=1., sens=1.)\n",
    "mixture.subgroups"
   ]
  },
  {
   "cell_type": "code",
   "execution_count": null,
   "metadata": {},
   "outputs": [],
   "source": [
    "mixture.subgroups[\"C05\"].get_all_modalities()"
   ]
  },
  {
   "cell_type": "code",
   "execution_count": null,
   "metadata": {},
   "outputs": [],
   "source": [
    "resp_from_cube = rng.uniform(size=(len(patient_data), num_components-1))\n",
    "resp = np.array([map_to_simplex(line) for line in resp_from_cube])\n",
    "\n",
    "mixture.set_resps(resp)"
   ]
  },
  {
   "cell_type": "code",
   "execution_count": null,
   "metadata": {},
   "outputs": [],
   "source": [
    "mixture.get_resps()"
   ]
  },
  {
   "cell_type": "code",
   "execution_count": null,
   "metadata": {},
   "outputs": [],
   "source": [
    "mixture.set_distribution(\"early\", np.linspace(0., 1., 11))\n",
    "mixture.get_all_distributions()"
   ]
  },
  {
   "cell_type": "code",
   "execution_count": null,
   "metadata": {},
   "outputs": [],
   "source": [
    "tmp = rng.uniform(size=(num_components, len(mixture.subgroups)))\n",
    "tmp /= tmp.sum(axis=0)\n",
    "mixture.set_mixture_coefs(tmp)"
   ]
  },
  {
   "cell_type": "code",
   "execution_count": null,
   "metadata": {},
   "outputs": [],
   "source": [
    "for subgroup in mixture.subgroups.values():\n",
    "    print(subgroup.get_all_modalities())"
   ]
  },
  {
   "cell_type": "code",
   "execution_count": null,
   "metadata": {},
   "outputs": [],
   "source": [
    "mixture.set_distribution(\"early\", np.linspace(0, 10, 11))\n",
    "mixture.set_distribution(\"late\", np.linspace(10, 0, 11))"
   ]
  },
  {
   "cell_type": "code",
   "execution_count": null,
   "metadata": {},
   "outputs": [],
   "source": [
    "for comp in mixture.components:\n",
    "    print(comp.get_all_distributions())"
   ]
  },
  {
   "cell_type": "code",
   "execution_count": null,
   "metadata": {},
   "outputs": [],
   "source": [
    "params_to_set = mixture.get_params()\n",
    "for param in params_to_set.keys():\n",
    "    params_to_set[param] = rng.uniform()\n",
    "\n",
    "mixture.set_params(**params_to_set)\n",
    "mixture.get_params()"
   ]
  },
  {
   "cell_type": "code",
   "execution_count": null,
   "metadata": {},
   "outputs": [],
   "source": [
    "total = 0.\n",
    "for c, _ in enumerate(mixture.components):\n",
    "    total += mixture.get_params()[f\"{c}_C05_coef\"]\n",
    "\n",
    "total"
   ]
  },
  {
   "cell_type": "code",
   "execution_count": null,
   "metadata": {},
   "outputs": [],
   "source": [
    "mixture.get_mixture_coefs().sum(axis=0)"
   ]
  },
  {
   "cell_type": "code",
   "execution_count": null,
   "metadata": {},
   "outputs": [],
   "source": [
    "mixture.patient_mixture_likelihoods(log=False, marginalize=True)"
   ]
  },
  {
   "cell_type": "code",
   "execution_count": null,
   "metadata": {},
   "outputs": [],
   "source": [
    "mixture.likelihood()"
   ]
  },
  {
   "cell_type": "code",
   "execution_count": null,
   "metadata": {},
   "outputs": [],
   "source": [
    "mixture.likelihood(given_resps=mixture.get_resps(norm=True))"
   ]
  },
  {
   "cell_type": "code",
   "execution_count": null,
   "metadata": {},
   "outputs": [],
   "source": [
    "mixture.normalize_mixture_coefs()\n",
    "mixture.repeat_mixture_coefs(log=False).sum(axis=1)"
   ]
  },
  {
   "cell_type": "code",
   "execution_count": null,
   "metadata": {},
   "outputs": [],
   "source": [
    "mixture.set_resps(\n",
    "    mixture.patient_mixture_likelihoods(log=False, marginalize=False)\n",
    ")\n",
    "mixture.get_resps(norm=True)"
   ]
  }
 ],
 "metadata": {
  "kernelspec": {
   "display_name": ".venv",
   "language": "python",
   "name": "python3"
  },
  "language_info": {
   "codemirror_mode": {
    "name": "ipython",
    "version": 3
   },
   "file_extension": ".py",
   "mimetype": "text/x-python",
   "name": "python",
   "nbconvert_exporter": "python",
   "pygments_lexer": "ipython3",
   "version": "3.10.12"
  }
 },
 "nbformat": 4,
 "nbformat_minor": 2
}
